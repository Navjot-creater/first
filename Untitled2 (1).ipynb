{
 "cells": [
  {
   "cell_type": "markdown",
   "id": "50a646ff-ec2c-42b5-83ce-1d3889c83d44",
   "metadata": {},
   "source": [
    "My Juypter Notebook on IBM Watson Studio"
   ]
  },
  {
   "cell_type": "markdown",
   "id": "a1d2ace2-782b-4bc7-a313-2d345f261fa9",
   "metadata": {},
   "source": [
    "**Navjot Kaur**\n",
    "Data Scientist"
   ]
  },
  {
   "cell_type": "markdown",
   "id": "c8650e60-fcf0-47a3-87fc-528ecab915c0",
   "metadata": {
    "tags": []
   },
   "source": [
    "_I am interested in data Science because i enjoy problem solving and statistical analysis_"
   ]
  },
  {
   "cell_type": "markdown",
   "id": "9e9fdf1a-4fb2-45d3-8f6d-ffb5f295caea",
   "metadata": {},
   "source": [
    "### The following code test the multiplication"
   ]
  },
  {
   "cell_type": "code",
   "execution_count": 1,
   "id": "016ff836-f9de-4d49-a2b4-8850f338c3f4",
   "metadata": {},
   "outputs": [
    {
     "data": {
      "text/plain": [
       "4"
      ]
     },
     "execution_count": 1,
     "metadata": {},
     "output_type": "execute_result"
    }
   ],
   "source": [
    "2*2"
   ]
  },
  {
   "cell_type": "markdown",
   "id": "e93a221b-2393-464d-b3dd-e6efa2c6589b",
   "metadata": {},
   "source": [
    "Programming languages:\n",
    "* python\n",
    "* C++\n",
    "* Java\n",
    "* PHP"
   ]
  },
  {
   "cell_type": "markdown",
   "id": "ba79310d-0c8d-487d-9917-aa12dc7df194",
   "metadata": {},
   "source": [
    "Numbered list of Animals:\n",
    "1. Elephant\n",
    "2. Lion\n",
    "3. Dolphin\n",
    "4. Giraffe\n",
    "5. Deer"
   ]
  },
  {
   "cell_type": "markdown",
   "id": "e377005b-fdcd-41ff-b644-7c9a85e2ffe4",
   "metadata": {},
   "source": [
    " |Company|  |Contact|  |Country|\n",
    " |-------|  |-------|  |-------|\n",
    " |TCS|      |Monika|   |India|\n",
    " |Island|   |Helen|    |UK|\n",
    " |Nokia|    |Maira|    |Finland|\n"
   ]
  }
 ],
 "metadata": {
  "kernelspec": {
   "display_name": "Python",
   "language": "python",
   "name": "conda-env-python-py"
  },
  "language_info": {
   "codemirror_mode": {
    "name": "ipython",
    "version": 3
   },
   "file_extension": ".py",
   "mimetype": "text/x-python",
   "name": "python",
   "nbconvert_exporter": "python",
   "pygments_lexer": "ipython3",
   "version": "3.7.12"
  }
 },
 "nbformat": 4,
 "nbformat_minor": 5
}
